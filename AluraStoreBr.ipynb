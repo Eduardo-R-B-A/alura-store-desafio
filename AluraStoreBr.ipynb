{
  "nbformat": 4,
  "nbformat_minor": 0,
  "metadata": {
    "colab": {
      "provenance": [],
      "include_colab_link": true
    },
    "kernelspec": {
      "name": "python3",
      "display_name": "Python 3"
    },
    "language_info": {
      "name": "python"
    }
  },
  "cells": [
    {
      "cell_type": "markdown",
      "metadata": {
        "id": "view-in-github",
        "colab_type": "text"
      },
      "source": [
        "<a href=\"https://colab.research.google.com/github/Eduardo-R-B-A/alura-store-desafio/blob/main/AluraStoreBr.ipynb\" target=\"_parent\"><img src=\"https://colab.research.google.com/assets/colab-badge.svg\" alt=\"Open In Colab\"/></a>"
      ]
    },
    {
      "cell_type": "markdown",
      "source": [
        "### Importação dos dados\n",
        "\n"
      ],
      "metadata": {
        "id": "RhEdWd9YUR6H"
      }
    },
    {
      "cell_type": "code",
      "execution_count": 19,
      "metadata": {
        "colab": {
          "base_uri": "https://localhost:8080/",
          "height": 293
        },
        "id": "T3EvaeQ_INIL",
        "outputId": "1830347a-8386-431f-e473-388e1609ee74"
      },
      "outputs": [
        {
          "output_type": "execute_result",
          "data": {
            "text/plain": [
              "                 Produto Categoria do Produto    Preço      Frete  \\\n",
              "0     Assistente virtual          eletronicos   219.08   9.249790   \n",
              "1         Mesa de jantar               moveis   256.35  11.234305   \n",
              "2      Jogo de tabuleiro           brinquedos   279.51  21.262681   \n",
              "3            Micro-ondas     eletrodomesticos  1009.99  54.667344   \n",
              "4  Cadeira de escritório               moveis   446.99  26.964689   \n",
              "\n",
              "  Data da Compra        Vendedor Local da compra  Avaliação da compra  \\\n",
              "0     16/01/2021     Pedro Gomes              SP                    4   \n",
              "1     18/05/2022  Beatriz Moraes              RJ                    1   \n",
              "2     15/03/2021      João Souza              DF                    1   \n",
              "3     03/05/2022      João Souza              RS                    4   \n",
              "4     07/11/2020   Larissa Alves              MG                    5   \n",
              "\n",
              "  Tipo de pagamento  Quantidade de parcelas    lat    lon  \n",
              "0    cartao_credito                       8 -22.19 -48.79  \n",
              "1    cartao_credito                       4 -22.25 -42.66  \n",
              "2    cartao_credito                       1 -15.83 -47.86  \n",
              "3            boleto                       1 -30.17 -53.50  \n",
              "4            boleto                       1 -18.10 -44.38  "
            ],
            "text/html": [
              "\n",
              "  <div id=\"df-af8da8bc-8194-4509-a6f3-c6cdcafa7d9d\" class=\"colab-df-container\">\n",
              "    <div>\n",
              "<style scoped>\n",
              "    .dataframe tbody tr th:only-of-type {\n",
              "        vertical-align: middle;\n",
              "    }\n",
              "\n",
              "    .dataframe tbody tr th {\n",
              "        vertical-align: top;\n",
              "    }\n",
              "\n",
              "    .dataframe thead th {\n",
              "        text-align: right;\n",
              "    }\n",
              "</style>\n",
              "<table border=\"1\" class=\"dataframe\">\n",
              "  <thead>\n",
              "    <tr style=\"text-align: right;\">\n",
              "      <th></th>\n",
              "      <th>Produto</th>\n",
              "      <th>Categoria do Produto</th>\n",
              "      <th>Preço</th>\n",
              "      <th>Frete</th>\n",
              "      <th>Data da Compra</th>\n",
              "      <th>Vendedor</th>\n",
              "      <th>Local da compra</th>\n",
              "      <th>Avaliação da compra</th>\n",
              "      <th>Tipo de pagamento</th>\n",
              "      <th>Quantidade de parcelas</th>\n",
              "      <th>lat</th>\n",
              "      <th>lon</th>\n",
              "    </tr>\n",
              "  </thead>\n",
              "  <tbody>\n",
              "    <tr>\n",
              "      <th>0</th>\n",
              "      <td>Assistente virtual</td>\n",
              "      <td>eletronicos</td>\n",
              "      <td>219.08</td>\n",
              "      <td>9.249790</td>\n",
              "      <td>16/01/2021</td>\n",
              "      <td>Pedro Gomes</td>\n",
              "      <td>SP</td>\n",
              "      <td>4</td>\n",
              "      <td>cartao_credito</td>\n",
              "      <td>8</td>\n",
              "      <td>-22.19</td>\n",
              "      <td>-48.79</td>\n",
              "    </tr>\n",
              "    <tr>\n",
              "      <th>1</th>\n",
              "      <td>Mesa de jantar</td>\n",
              "      <td>moveis</td>\n",
              "      <td>256.35</td>\n",
              "      <td>11.234305</td>\n",
              "      <td>18/05/2022</td>\n",
              "      <td>Beatriz Moraes</td>\n",
              "      <td>RJ</td>\n",
              "      <td>1</td>\n",
              "      <td>cartao_credito</td>\n",
              "      <td>4</td>\n",
              "      <td>-22.25</td>\n",
              "      <td>-42.66</td>\n",
              "    </tr>\n",
              "    <tr>\n",
              "      <th>2</th>\n",
              "      <td>Jogo de tabuleiro</td>\n",
              "      <td>brinquedos</td>\n",
              "      <td>279.51</td>\n",
              "      <td>21.262681</td>\n",
              "      <td>15/03/2021</td>\n",
              "      <td>João Souza</td>\n",
              "      <td>DF</td>\n",
              "      <td>1</td>\n",
              "      <td>cartao_credito</td>\n",
              "      <td>1</td>\n",
              "      <td>-15.83</td>\n",
              "      <td>-47.86</td>\n",
              "    </tr>\n",
              "    <tr>\n",
              "      <th>3</th>\n",
              "      <td>Micro-ondas</td>\n",
              "      <td>eletrodomesticos</td>\n",
              "      <td>1009.99</td>\n",
              "      <td>54.667344</td>\n",
              "      <td>03/05/2022</td>\n",
              "      <td>João Souza</td>\n",
              "      <td>RS</td>\n",
              "      <td>4</td>\n",
              "      <td>boleto</td>\n",
              "      <td>1</td>\n",
              "      <td>-30.17</td>\n",
              "      <td>-53.50</td>\n",
              "    </tr>\n",
              "    <tr>\n",
              "      <th>4</th>\n",
              "      <td>Cadeira de escritório</td>\n",
              "      <td>moveis</td>\n",
              "      <td>446.99</td>\n",
              "      <td>26.964689</td>\n",
              "      <td>07/11/2020</td>\n",
              "      <td>Larissa Alves</td>\n",
              "      <td>MG</td>\n",
              "      <td>5</td>\n",
              "      <td>boleto</td>\n",
              "      <td>1</td>\n",
              "      <td>-18.10</td>\n",
              "      <td>-44.38</td>\n",
              "    </tr>\n",
              "  </tbody>\n",
              "</table>\n",
              "</div>\n",
              "    <div class=\"colab-df-buttons\">\n",
              "\n",
              "  <div class=\"colab-df-container\">\n",
              "    <button class=\"colab-df-convert\" onclick=\"convertToInteractive('df-af8da8bc-8194-4509-a6f3-c6cdcafa7d9d')\"\n",
              "            title=\"Convert this dataframe to an interactive table.\"\n",
              "            style=\"display:none;\">\n",
              "\n",
              "  <svg xmlns=\"http://www.w3.org/2000/svg\" height=\"24px\" viewBox=\"0 -960 960 960\">\n",
              "    <path d=\"M120-120v-720h720v720H120Zm60-500h600v-160H180v160Zm220 220h160v-160H400v160Zm0 220h160v-160H400v160ZM180-400h160v-160H180v160Zm440 0h160v-160H620v160ZM180-180h160v-160H180v160Zm440 0h160v-160H620v160Z\"/>\n",
              "  </svg>\n",
              "    </button>\n",
              "\n",
              "  <style>\n",
              "    .colab-df-container {\n",
              "      display:flex;\n",
              "      gap: 12px;\n",
              "    }\n",
              "\n",
              "    .colab-df-convert {\n",
              "      background-color: #E8F0FE;\n",
              "      border: none;\n",
              "      border-radius: 50%;\n",
              "      cursor: pointer;\n",
              "      display: none;\n",
              "      fill: #1967D2;\n",
              "      height: 32px;\n",
              "      padding: 0 0 0 0;\n",
              "      width: 32px;\n",
              "    }\n",
              "\n",
              "    .colab-df-convert:hover {\n",
              "      background-color: #E2EBFA;\n",
              "      box-shadow: 0px 1px 2px rgba(60, 64, 67, 0.3), 0px 1px 3px 1px rgba(60, 64, 67, 0.15);\n",
              "      fill: #174EA6;\n",
              "    }\n",
              "\n",
              "    .colab-df-buttons div {\n",
              "      margin-bottom: 4px;\n",
              "    }\n",
              "\n",
              "    [theme=dark] .colab-df-convert {\n",
              "      background-color: #3B4455;\n",
              "      fill: #D2E3FC;\n",
              "    }\n",
              "\n",
              "    [theme=dark] .colab-df-convert:hover {\n",
              "      background-color: #434B5C;\n",
              "      box-shadow: 0px 1px 3px 1px rgba(0, 0, 0, 0.15);\n",
              "      filter: drop-shadow(0px 1px 2px rgba(0, 0, 0, 0.3));\n",
              "      fill: #FFFFFF;\n",
              "    }\n",
              "  </style>\n",
              "\n",
              "    <script>\n",
              "      const buttonEl =\n",
              "        document.querySelector('#df-af8da8bc-8194-4509-a6f3-c6cdcafa7d9d button.colab-df-convert');\n",
              "      buttonEl.style.display =\n",
              "        google.colab.kernel.accessAllowed ? 'block' : 'none';\n",
              "\n",
              "      async function convertToInteractive(key) {\n",
              "        const element = document.querySelector('#df-af8da8bc-8194-4509-a6f3-c6cdcafa7d9d');\n",
              "        const dataTable =\n",
              "          await google.colab.kernel.invokeFunction('convertToInteractive',\n",
              "                                                    [key], {});\n",
              "        if (!dataTable) return;\n",
              "\n",
              "        const docLinkHtml = 'Like what you see? Visit the ' +\n",
              "          '<a target=\"_blank\" href=https://colab.research.google.com/notebooks/data_table.ipynb>data table notebook</a>'\n",
              "          + ' to learn more about interactive tables.';\n",
              "        element.innerHTML = '';\n",
              "        dataTable['output_type'] = 'display_data';\n",
              "        await google.colab.output.renderOutput(dataTable, element);\n",
              "        const docLink = document.createElement('div');\n",
              "        docLink.innerHTML = docLinkHtml;\n",
              "        element.appendChild(docLink);\n",
              "      }\n",
              "    </script>\n",
              "  </div>\n",
              "\n",
              "\n",
              "    <div id=\"df-e16ed544-4b9a-457c-9db7-7047085a41f1\">\n",
              "      <button class=\"colab-df-quickchart\" onclick=\"quickchart('df-e16ed544-4b9a-457c-9db7-7047085a41f1')\"\n",
              "                title=\"Suggest charts\"\n",
              "                style=\"display:none;\">\n",
              "\n",
              "<svg xmlns=\"http://www.w3.org/2000/svg\" height=\"24px\"viewBox=\"0 0 24 24\"\n",
              "     width=\"24px\">\n",
              "    <g>\n",
              "        <path d=\"M19 3H5c-1.1 0-2 .9-2 2v14c0 1.1.9 2 2 2h14c1.1 0 2-.9 2-2V5c0-1.1-.9-2-2-2zM9 17H7v-7h2v7zm4 0h-2V7h2v10zm4 0h-2v-4h2v4z\"/>\n",
              "    </g>\n",
              "</svg>\n",
              "      </button>\n",
              "\n",
              "<style>\n",
              "  .colab-df-quickchart {\n",
              "      --bg-color: #E8F0FE;\n",
              "      --fill-color: #1967D2;\n",
              "      --hover-bg-color: #E2EBFA;\n",
              "      --hover-fill-color: #174EA6;\n",
              "      --disabled-fill-color: #AAA;\n",
              "      --disabled-bg-color: #DDD;\n",
              "  }\n",
              "\n",
              "  [theme=dark] .colab-df-quickchart {\n",
              "      --bg-color: #3B4455;\n",
              "      --fill-color: #D2E3FC;\n",
              "      --hover-bg-color: #434B5C;\n",
              "      --hover-fill-color: #FFFFFF;\n",
              "      --disabled-bg-color: #3B4455;\n",
              "      --disabled-fill-color: #666;\n",
              "  }\n",
              "\n",
              "  .colab-df-quickchart {\n",
              "    background-color: var(--bg-color);\n",
              "    border: none;\n",
              "    border-radius: 50%;\n",
              "    cursor: pointer;\n",
              "    display: none;\n",
              "    fill: var(--fill-color);\n",
              "    height: 32px;\n",
              "    padding: 0;\n",
              "    width: 32px;\n",
              "  }\n",
              "\n",
              "  .colab-df-quickchart:hover {\n",
              "    background-color: var(--hover-bg-color);\n",
              "    box-shadow: 0 1px 2px rgba(60, 64, 67, 0.3), 0 1px 3px 1px rgba(60, 64, 67, 0.15);\n",
              "    fill: var(--button-hover-fill-color);\n",
              "  }\n",
              "\n",
              "  .colab-df-quickchart-complete:disabled,\n",
              "  .colab-df-quickchart-complete:disabled:hover {\n",
              "    background-color: var(--disabled-bg-color);\n",
              "    fill: var(--disabled-fill-color);\n",
              "    box-shadow: none;\n",
              "  }\n",
              "\n",
              "  .colab-df-spinner {\n",
              "    border: 2px solid var(--fill-color);\n",
              "    border-color: transparent;\n",
              "    border-bottom-color: var(--fill-color);\n",
              "    animation:\n",
              "      spin 1s steps(1) infinite;\n",
              "  }\n",
              "\n",
              "  @keyframes spin {\n",
              "    0% {\n",
              "      border-color: transparent;\n",
              "      border-bottom-color: var(--fill-color);\n",
              "      border-left-color: var(--fill-color);\n",
              "    }\n",
              "    20% {\n",
              "      border-color: transparent;\n",
              "      border-left-color: var(--fill-color);\n",
              "      border-top-color: var(--fill-color);\n",
              "    }\n",
              "    30% {\n",
              "      border-color: transparent;\n",
              "      border-left-color: var(--fill-color);\n",
              "      border-top-color: var(--fill-color);\n",
              "      border-right-color: var(--fill-color);\n",
              "    }\n",
              "    40% {\n",
              "      border-color: transparent;\n",
              "      border-right-color: var(--fill-color);\n",
              "      border-top-color: var(--fill-color);\n",
              "    }\n",
              "    60% {\n",
              "      border-color: transparent;\n",
              "      border-right-color: var(--fill-color);\n",
              "    }\n",
              "    80% {\n",
              "      border-color: transparent;\n",
              "      border-right-color: var(--fill-color);\n",
              "      border-bottom-color: var(--fill-color);\n",
              "    }\n",
              "    90% {\n",
              "      border-color: transparent;\n",
              "      border-bottom-color: var(--fill-color);\n",
              "    }\n",
              "  }\n",
              "</style>\n",
              "\n",
              "      <script>\n",
              "        async function quickchart(key) {\n",
              "          const quickchartButtonEl =\n",
              "            document.querySelector('#' + key + ' button');\n",
              "          quickchartButtonEl.disabled = true;  // To prevent multiple clicks.\n",
              "          quickchartButtonEl.classList.add('colab-df-spinner');\n",
              "          try {\n",
              "            const charts = await google.colab.kernel.invokeFunction(\n",
              "                'suggestCharts', [key], {});\n",
              "          } catch (error) {\n",
              "            console.error('Error during call to suggestCharts:', error);\n",
              "          }\n",
              "          quickchartButtonEl.classList.remove('colab-df-spinner');\n",
              "          quickchartButtonEl.classList.add('colab-df-quickchart-complete');\n",
              "        }\n",
              "        (() => {\n",
              "          let quickchartButtonEl =\n",
              "            document.querySelector('#df-e16ed544-4b9a-457c-9db7-7047085a41f1 button');\n",
              "          quickchartButtonEl.style.display =\n",
              "            google.colab.kernel.accessAllowed ? 'block' : 'none';\n",
              "        })();\n",
              "      </script>\n",
              "    </div>\n",
              "\n",
              "    </div>\n",
              "  </div>\n"
            ],
            "application/vnd.google.colaboratory.intrinsic+json": {
              "type": "dataframe",
              "variable_name": "loja",
              "summary": "{\n  \"name\": \"loja\",\n  \"rows\": 2359,\n  \"fields\": [\n    {\n      \"column\": \"Produto\",\n      \"properties\": {\n        \"dtype\": \"category\",\n        \"num_unique_values\": 51,\n        \"samples\": [\n          \"Viol\\u00e3o\",\n          \"Bola de basquete\",\n          \"Smartwatch\"\n        ],\n        \"semantic_type\": \"\",\n        \"description\": \"\"\n      }\n    },\n    {\n      \"column\": \"Categoria do Produto\",\n      \"properties\": {\n        \"dtype\": \"category\",\n        \"num_unique_values\": 8,\n        \"samples\": [\n          \"moveis\",\n          \"esporte e lazer\",\n          \"eletronicos\"\n        ],\n        \"semantic_type\": \"\",\n        \"description\": \"\"\n      }\n    },\n    {\n      \"column\": \"Pre\\u00e7o\",\n      \"properties\": {\n        \"dtype\": \"number\",\n        \"std\": 819.5827782539145,\n        \"min\": 10.07,\n        \"max\": 3969.38,\n        \"num_unique_values\": 2315,\n        \"samples\": [\n          446.11,\n          107.31,\n          65.86\n        ],\n        \"semantic_type\": \"\",\n        \"description\": \"\"\n      }\n    },\n    {\n      \"column\": \"Frete\",\n      \"properties\": {\n        \"dtype\": \"number\",\n        \"std\": 43.814183327408166,\n        \"min\": 0.0,\n        \"max\": 214.3770604781,\n        \"num_unique_values\": 2149,\n        \"samples\": [\n          83.815279607,\n          16.069664669,\n          14.0344876928\n        ],\n        \"semantic_type\": \"\",\n        \"description\": \"\"\n      }\n    },\n    {\n      \"column\": \"Data da Compra\",\n      \"properties\": {\n        \"dtype\": \"object\",\n        \"num_unique_values\": 1018,\n        \"samples\": [\n          \"15/09/2022\",\n          \"03/06/2020\",\n          \"06/11/2021\"\n        ],\n        \"semantic_type\": \"\",\n        \"description\": \"\"\n      }\n    },\n    {\n      \"column\": \"Vendedor\",\n      \"properties\": {\n        \"dtype\": \"category\",\n        \"num_unique_values\": 14,\n        \"samples\": [\n          \"Juliana Costa\",\n          \"Mariana Ferreira\",\n          \"Pedro Gomes\"\n        ],\n        \"semantic_type\": \"\",\n        \"description\": \"\"\n      }\n    },\n    {\n      \"column\": \"Local da compra\",\n      \"properties\": {\n        \"dtype\": \"category\",\n        \"num_unique_values\": 26,\n        \"samples\": [\n          \"TO\",\n          \"RN\",\n          \"SP\"\n        ],\n        \"semantic_type\": \"\",\n        \"description\": \"\"\n      }\n    },\n    {\n      \"column\": \"Avalia\\u00e7\\u00e3o da compra\",\n      \"properties\": {\n        \"dtype\": \"number\",\n        \"std\": 1,\n        \"min\": 1,\n        \"max\": 5,\n        \"num_unique_values\": 5,\n        \"samples\": [\n          1,\n          2,\n          5\n        ],\n        \"semantic_type\": \"\",\n        \"description\": \"\"\n      }\n    },\n    {\n      \"column\": \"Tipo de pagamento\",\n      \"properties\": {\n        \"dtype\": \"category\",\n        \"num_unique_values\": 4,\n        \"samples\": [\n          \"boleto\",\n          \"cartao_debito\",\n          \"cartao_credito\"\n        ],\n        \"semantic_type\": \"\",\n        \"description\": \"\"\n      }\n    },\n    {\n      \"column\": \"Quantidade de parcelas\",\n      \"properties\": {\n        \"dtype\": \"number\",\n        \"std\": 2,\n        \"min\": 1,\n        \"max\": 24,\n        \"num_unique_values\": 15,\n        \"samples\": [\n          7,\n          14,\n          8\n        ],\n        \"semantic_type\": \"\",\n        \"description\": \"\"\n      }\n    },\n    {\n      \"column\": \"lat\",\n      \"properties\": {\n        \"dtype\": \"number\",\n        \"std\": 5.372399916530833,\n        \"min\": -30.17,\n        \"max\": 1.41,\n        \"num_unique_values\": 26,\n        \"samples\": [\n          -9.46,\n          -5.81,\n          -22.19\n        ],\n        \"semantic_type\": \"\",\n        \"description\": \"\"\n      }\n    },\n    {\n      \"column\": \"lon\",\n      \"properties\": {\n        \"dtype\": \"number\",\n        \"std\": 4.183180020544179,\n        \"min\": -70.55,\n        \"max\": -36.59,\n        \"num_unique_values\": 26,\n        \"samples\": [\n          -48.26,\n          -36.59,\n          -48.79\n        ],\n        \"semantic_type\": \"\",\n        \"description\": \"\"\n      }\n    }\n  ]\n}"
            }
          },
          "metadata": {},
          "execution_count": 19
        }
      ],
      "source": [
        "import pandas as pd\n",
        "\n",
        "url = \"https://raw.githubusercontent.com/alura-es-cursos/challenge1-data-science/refs/heads/main/base-de-dados-challenge-1/loja_1.csv\"\n",
        "url2 = \"https://raw.githubusercontent.com/alura-es-cursos/challenge1-data-science/refs/heads/main/base-de-dados-challenge-1/loja_2.csv\"\n",
        "url3 = \"https://raw.githubusercontent.com/alura-es-cursos/challenge1-data-science/refs/heads/main/base-de-dados-challenge-1/loja_3.csv\"\n",
        "url4 = \"https://raw.githubusercontent.com/alura-es-cursos/challenge1-data-science/refs/heads/main/base-de-dados-challenge-1/loja_4.csv\"\n",
        "\n",
        "loja = pd.read_csv(url)\n",
        "loja2 = pd.read_csv(url2)\n",
        "loja3 = pd.read_csv(url3)\n",
        "loja4 = pd.read_csv(url4)\n",
        "\n",
        "loja.head()"
      ]
    },
    {
      "cell_type": "markdown",
      "source": [
        "#1. Análise do faturamento\n"
      ],
      "metadata": {
        "id": "X62IW3KFUIYm"
      }
    },
    {
      "cell_type": "code",
      "source": [
        "# Cálculo do faturamento por loja\n",
        "faturamento_loja1 = loja['Preço'].sum()\n",
        "faturamento_loja2 = loja2['Preço'].sum()\n",
        "faturamento_loja3 = loja3['Preço'].sum()\n",
        "faturamento_loja4 = loja4['Preço'].sum()\n",
        "\n",
        "# Exibição dos resultados formatados\n",
        "print(f\"Faturamento Loja 1: R$ {faturamento_loja1:,.2f}\")\n",
        "print(f\"Faturamento Loja 2: R$ {faturamento_loja2:,.2f}\")\n",
        "print(f\"Faturamento Loja 3: R$ {faturamento_loja3:,.2f}\")\n",
        "print(f\"Faturamento Loja 4: R$ {faturamento_loja4:,.2f}\")\n",
        "\n",
        "\n"
      ],
      "metadata": {
        "id": "xykobSftV64I",
        "colab": {
          "base_uri": "https://localhost:8080/"
        },
        "outputId": "fceafee6-c0ef-4482-e515-0b78220aadfc"
      },
      "execution_count": 21,
      "outputs": [
        {
          "output_type": "stream",
          "name": "stdout",
          "text": [
            "Faturamento Loja 1: R$ 1,534,509.12\n",
            "Faturamento Loja 2: R$ 1,488,459.06\n",
            "Faturamento Loja 3: R$ 1,464,025.03\n",
            "Faturamento Loja 4: R$ 1,384,497.58\n"
          ]
        }
      ]
    },
    {
      "cell_type": "code",
      "source": [],
      "metadata": {
        "id": "KDyr8E71V3m-"
      },
      "execution_count": null,
      "outputs": []
    },
    {
      "cell_type": "markdown",
      "source": [
        "# 2. Vendas por Categoria\n"
      ],
      "metadata": {
        "id": "2V_vcAPzWZmR"
      }
    },
    {
      "cell_type": "code",
      "source": [
        "loja['Loja'] = 'Loja 1'\n",
        "loja2['Loja'] = 'Loja 2'\n",
        "loja3['Loja'] = 'Loja 3'\n",
        "loja4['Loja'] = 'Loja 4'\n",
        "\n",
        "lojas = pd.concat([loja, loja2, loja3, loja4], ignore_index=True)\n",
        "\n",
        "# Contagem geral das vendas por categoria\n",
        "vendas_por_categoria = lojas['Categoria do Produto'].value_counts()\n",
        "print(vendas_por_categoria)\n",
        "\n",
        "# Agrupar por loja e categoria\n",
        "vendas_categoria_loja = lojas.groupby(['Loja', 'Categoria do Produto'])['Produto'].count().reset_index()\n",
        "\n",
        "# Ordenar para facilitar a leitura\n",
        "vendas_categoria_loja = vendas_categoria_loja.sort_values(['Loja', 'Produto'], ascending=[True, False])\n",
        "\n",
        "print(vendas_categoria_loja)\n"
      ],
      "metadata": {
        "id": "A34YupIuYhfF",
        "colab": {
          "base_uri": "https://localhost:8080/"
        },
        "outputId": "5d63a956-a053-4617-b7e8-d3d6ca192b13"
      },
      "execution_count": 22,
      "outputs": [
        {
          "output_type": "stream",
          "name": "stdout",
          "text": [
            "Categoria do Produto\n",
            "moveis                   1886\n",
            "eletronicos              1772\n",
            "brinquedos               1290\n",
            "eletrodomesticos         1149\n",
            "esporte e lazer          1113\n",
            "instrumentos musicais     753\n",
            "livros                    742\n",
            "utilidades domesticas     730\n",
            "Name: count, dtype: int64\n",
            "      Loja   Categoria do Produto  Produto\n",
            "6   Loja 1                 moveis      465\n",
            "2   Loja 1            eletronicos      448\n",
            "0   Loja 1             brinquedos      324\n",
            "1   Loja 1       eletrodomesticos      312\n",
            "3   Loja 1        esporte e lazer      284\n",
            "4   Loja 1  instrumentos musicais      182\n",
            "5   Loja 1                 livros      173\n",
            "7   Loja 1  utilidades domesticas      171\n",
            "14  Loja 2                 moveis      442\n",
            "10  Loja 2            eletronicos      422\n",
            "8   Loja 2             brinquedos      313\n",
            "9   Loja 2       eletrodomesticos      305\n",
            "11  Loja 2        esporte e lazer      275\n",
            "12  Loja 2  instrumentos musicais      224\n",
            "13  Loja 2                 livros      197\n",
            "15  Loja 2  utilidades domesticas      181\n",
            "22  Loja 3                 moveis      499\n",
            "18  Loja 3            eletronicos      451\n",
            "16  Loja 3             brinquedos      315\n",
            "17  Loja 3       eletrodomesticos      278\n",
            "19  Loja 3        esporte e lazer      277\n",
            "21  Loja 3                 livros      185\n",
            "20  Loja 3  instrumentos musicais      177\n",
            "23  Loja 3  utilidades domesticas      177\n",
            "30  Loja 4                 moveis      480\n",
            "26  Loja 4            eletronicos      451\n",
            "24  Loja 4             brinquedos      338\n",
            "27  Loja 4        esporte e lazer      277\n",
            "25  Loja 4       eletrodomesticos      254\n",
            "31  Loja 4  utilidades domesticas      201\n",
            "29  Loja 4                 livros      187\n",
            "28  Loja 4  instrumentos musicais      170\n"
          ]
        }
      ]
    },
    {
      "cell_type": "code",
      "source": [
        "\n"
      ],
      "metadata": {
        "id": "yZR6cOjXYSk1"
      },
      "execution_count": null,
      "outputs": []
    },
    {
      "cell_type": "markdown",
      "source": [
        "# 3. Média de Avaliação das Lojas"
      ],
      "metadata": {
        "id": "Rq6tU_xSY3jk"
      }
    },
    {
      "cell_type": "code",
      "source": [
        "loja['Loja'] = 'Loja 1'\n",
        "loja2['Loja'] = 'Loja 2'\n",
        "loja3['Loja'] = 'Loja 3'\n",
        "loja4['Loja'] = 'Loja 4'\n",
        "\n",
        "lojas = pd.concat([loja, loja2, loja3, loja4], ignore_index=True)\n",
        "\n",
        "media_avaliacoes = lojas.groupby('Loja')['Avaliação da compra'].mean().sort_values(ascending=False)\n",
        "print(media_avaliacoes)\n"
      ],
      "metadata": {
        "id": "bh3jjjJwY5MU",
        "colab": {
          "base_uri": "https://localhost:8080/"
        },
        "outputId": "d7fcfde5-14a6-44c8-a9ee-9f9d92a3ff0f"
      },
      "execution_count": 23,
      "outputs": [
        {
          "output_type": "stream",
          "name": "stdout",
          "text": [
            "Loja\n",
            "Loja 3    4.048326\n",
            "Loja 2    4.037304\n",
            "Loja 4    3.995759\n",
            "Loja 1    3.976685\n",
            "Name: Avaliação da compra, dtype: float64\n"
          ]
        }
      ]
    },
    {
      "cell_type": "code",
      "source": [],
      "metadata": {
        "id": "I0KkjPoTY88F"
      },
      "execution_count": 1,
      "outputs": []
    },
    {
      "cell_type": "markdown",
      "source": [
        "# 4. Produtos Mais e Menos Vendidos"
      ],
      "metadata": {
        "id": "DmNp1KPBZCm-"
      }
    },
    {
      "cell_type": "code",
      "source": [
        "mais_vendidos = lojas['Produto'].value_counts().head(10)\n",
        "print(\"🔝 Produtos Mais Vendidos:\")\n",
        "print(mais_vendidos)\n",
        "\n",
        "menos_vendidos = lojas['Produto'].value_counts().tail(10)\n",
        "print(\"\\n🔻 Produtos Menos Vendidos:\")\n",
        "print(menos_vendidos)\n"
      ],
      "metadata": {
        "id": "qoyjqijQZHfF",
        "colab": {
          "base_uri": "https://localhost:8080/"
        },
        "outputId": "b4c4ad53-4898-47aa-9407-2fcd44101853"
      },
      "execution_count": 24,
      "outputs": [
        {
          "output_type": "stream",
          "name": "stdout",
          "text": [
            "🔝 Produtos Mais Vendidos:\n",
            "Produto\n",
            "Cômoda                      210\n",
            "Carrinho controle remoto    206\n",
            "Micro-ondas                 206\n",
            "Bateria                     203\n",
            "Cama king                   201\n",
            "Secadora de roupas          200\n",
            "Modelagem preditiva         200\n",
            "Jogo de panelas             200\n",
            "Cama box                    199\n",
            "Blocos de montar            199\n",
            "Name: count, dtype: int64\n",
            "\n",
            "🔻 Produtos Menos Vendidos:\n",
            "Produto\n",
            "Panela de pressão              172\n",
            "Smartwatch                     172\n",
            "Jogo de copos                  169\n",
            "Poltrona                       168\n",
            "Assistente virtual             167\n",
            "Ciência de dados com python    166\n",
            "Guitarra                       165\n",
            "Mochila                        163\n",
            "Headset                        158\n",
            "Celular ABXY                   157\n",
            "Name: count, dtype: int64\n"
          ]
        }
      ]
    },
    {
      "cell_type": "code",
      "source": [],
      "metadata": {
        "id": "0Sw3sd4IZIGW"
      },
      "execution_count": 1,
      "outputs": []
    },
    {
      "cell_type": "markdown",
      "source": [
        "# 5. Frete Médio por Loja\n"
      ],
      "metadata": {
        "id": "OX2lumabt-zC"
      }
    },
    {
      "cell_type": "code",
      "source": [
        "loja['Loja'] = 'Loja 1'\n",
        "loja2['Loja'] = 'Loja 2'\n",
        "loja3['Loja'] = 'Loja 3'\n",
        "loja4['Loja'] = 'Loja 4'\n",
        "\n",
        "lojas = pd.concat([loja, loja2, loja3, loja4], ignore_index=True)\n",
        "\n",
        "frete_medio = lojas.groupby('Loja')['Frete'].mean().sort_values()\n",
        "print(frete_medio)\n"
      ],
      "metadata": {
        "id": "S2JeaCykZNy9",
        "colab": {
          "base_uri": "https://localhost:8080/"
        },
        "outputId": "baed7834-4b67-4082-8a44-6e645453c7a3"
      },
      "execution_count": 25,
      "outputs": [
        {
          "output_type": "stream",
          "name": "stdout",
          "text": [
            "Loja\n",
            "Loja 4    31.278997\n",
            "Loja 3    33.074464\n",
            "Loja 2    33.621941\n",
            "Loja 1    34.691805\n",
            "Name: Frete, dtype: float64\n"
          ]
        }
      ]
    },
    {
      "cell_type": "code",
      "source": [],
      "metadata": {
        "id": "0tSdCie9ZQlt"
      },
      "execution_count": 1,
      "outputs": []
    },
    {
      "cell_type": "markdown",
      "source": [
        "## Gráfico de Pizza Faturamento por Loja\n",
        "\n",
        "---\n",
        "\n"
      ],
      "metadata": {
        "id": "URnchVF9-pFO"
      }
    },
    {
      "cell_type": "code",
      "source": [
        "import matplotlib.pyplot as plt\n",
        "\n",
        "# Dados do faturamento\n",
        "faturamento_valores = [\n",
        "    loja['Preço'].sum(),\n",
        "    loja2['Preço'].sum(),\n",
        "    loja3['Preço'].sum(),\n",
        "    loja4['Preço'].sum()\n",
        "]\n",
        "labels = ['Loja 1', 'Loja 2', 'Loja 3', 'Loja 4']\n",
        "\n",
        "plt.figure(figsize=(6,6))\n",
        "plt.pie(faturamento_valores, labels=labels, autopct='%1.1f%%', startangle=90)\n",
        "plt.title('Distribuição do Faturamento por Loja')\n",
        "plt.show()\n"
      ],
      "metadata": {
        "colab": {
          "base_uri": "https://localhost:8080/",
          "height": 521
        },
        "id": "dTqJcV9t-y9t",
        "outputId": "9002bea4-3b01-4e5c-b097-4a367b190ff6"
      },
      "execution_count": 26,
      "outputs": [
        {
          "output_type": "display_data",
          "data": {
            "text/plain": [
              "<Figure size 600x600 with 1 Axes>"
            ],
            "image/png": "[encoded data removed]"
          },
          "metadata": {}
        }
      ]
    },
    {
      "cell_type": "markdown",
      "source": [
        "## Gráfico de Barras Avaliação Média por Loja\n",
        "---"
      ],
      "metadata": {
        "id": "hNGS5rod-8V5"
      }
    },
    {
      "cell_type": "code",
      "source": [
        "# Dados da avaliação\n",
        "avaliacoes = {\n",
        "    'Loja 1': loja['Avaliação da compra'].mean(),\n",
        "    'Loja 2': loja2['Avaliação da compra'].mean(),\n",
        "    'Loja 3': loja3['Avaliação da compra'].mean(),\n",
        "    'Loja 4': loja4['Avaliação da compra'].mean()\n",
        "}\n",
        "\n",
        "plt.figure(figsize=(8,5))\n",
        "plt.bar(avaliacoes.keys(), avaliacoes.values(), color='orange')\n",
        "plt.title('Média de Avaliação dos Clientes por Loja')\n",
        "plt.xlabel('Loja')\n",
        "plt.ylabel('Nota Média')\n",
        "plt.ylim(0, 5)\n",
        "plt.grid(axis='y')\n",
        "plt.show()\n"
      ],
      "metadata": {
        "colab": {
          "base_uri": "https://localhost:8080/",
          "height": 488
        },
        "id": "J4Pymxs6_Iiy",
        "outputId": "d6a14f7a-293b-4530-e085-eb699b3b27c6"
      },
      "execution_count": 27,
      "outputs": [
        {
          "output_type": "display_data",
          "data": {
            "text/plain": [
              "<Figure size 800x500 with 1 Axes>"
            ],
            "image/png": "[encoded data removed]"
          },
          "metadata": {}
        }
      ]
    },
    {
      "cell_type": "markdown",
      "source": [
        "## Gráfico de Linhas Frete Médio por Loja\n",
        "---"
      ],
      "metadata": {
        "id": "5y9hF2Bu_UmS"
      }
    },
    {
      "cell_type": "code",
      "source": [
        "# Dados de frete\n",
        "fretes = {\n",
        "    'Loja 1': loja['Frete'].mean(),\n",
        "    'Loja 2': loja2['Frete'].mean(),\n",
        "    'Loja 3': loja3['Frete'].mean(),\n",
        "    'Loja 4': loja4['Frete'].mean()\n",
        "}\n",
        "\n",
        "plt.figure(figsize=(8,5))\n",
        "plt.plot(list(fretes.keys()), list(fretes.values()), marker='o', linestyle='-', color='purple')\n",
        "plt.title('Custo Médio de Frete por Loja')\n",
        "plt.xlabel('Loja')\n",
        "plt.ylabel('Frete Médio (R$)')\n",
        "plt.grid(True)\n",
        "plt.show()\n"
      ],
      "metadata": {
        "colab": {
          "base_uri": "https://localhost:8080/",
          "height": 488
        },
        "id": "M40rcPGJ_bv-",
        "outputId": "4e3df78a-3a12-4481-e1b3-8adb3f162638"
      },
      "execution_count": 28,
      "outputs": [
        {
          "output_type": "display_data",
          "data": {
            "text/plain": [
              "<Figure size 800x500 with 1 Axes>"
            ],
            "image/png": "[encoded data removed]"
          },
          "metadata": {}
        }
      ]
    },
    {
      "cell_type": "markdown",
      "source": [
        "## Relatório\n",
        "\n",
        "# 📊 Relatório Final – Análise de Desempenho das Lojas da Alura Store\n",
        "\n",
        "## 🎯 Objetivo\n",
        "\n",
        "Este relatório tem como finalidade apoiar o Sr. João na decisão sobre qual das quatro lojas da Alura Store deve ser vendida, com base em uma análise comparativa de desempenho. As métricas utilizadas para essa avaliação foram:\n",
        "\n",
        "- Faturamento total por loja  \n",
        "- Vendas por categoria de produto  \n",
        "- Média de avaliação dos clientes  \n",
        "- Produtos mais e menos vendidos  \n",
        "- Custo médio de frete por loja  \n",
        "\n",
        "Além disso, foram gerados três gráficos distintos utilizando a biblioteca `Matplotlib` para apoiar visualmente a tomada de decisão.\n",
        "\n",
        "---\n",
        "\n",
        "## 💰 Faturamento Total por Loja\n",
        "\n",
        "- **Loja 1**: R$ 1.534.509,12  \n",
        "- **Loja 2**: R$ 1.488.459,06  \n",
        "- **Loja 3**: R$ 1.464.025,03  \n",
        "- **Loja 4**: R$ 1.384.497,58\n",
        "\n",
        "> A **Loja 4 apresentou o menor faturamento** da rede, sendo a loja com menor desempenho financeiro entre todas.\n",
        "\n",
        "---\n",
        "\n",
        "## 📦 Vendas por Categoria de Produto\n",
        "\n",
        "As cinco categorias mais populares foram:\n",
        "\n",
        "1. **Móveis** – 1.886 unidades  \n",
        "2. **Eletrônicos** – 1.772 unidades  \n",
        "3. **Brinquedos** – 1.290 unidades  \n",
        "4. **Eletrodomésticos** – 1.149 unidades  \n",
        "5. **Esporte e Lazer** – 1.113 unidades\n",
        "\n",
        "A **Loja 4 teve o menor volume de vendas em categorias relevantes**, como eletrodomésticos, instrumentos musicais e livros, o que pode indicar menor diversidade e atratividade de produtos.\n",
        "\n",
        "---\n",
        "\n",
        "## ⭐ Média de Avaliação dos Clientes\n",
        "\n",
        "- **Loja 3**: 4,05  \n",
        "- **Loja 2**: 4,04  \n",
        "- **Loja 4**: 4,00  \n",
        "- **Loja 1**: 3,98\n",
        "\n",
        "> Apesar da diferença ser pequena, a **Loja 1 teve a pior média de avaliação**, enquanto a **Loja 3 liderou** na satisfação do cliente.\n",
        "\n",
        "---\n",
        "\n",
        "## 🛍️ Produtos Mais e Menos Vendidos\n",
        "\n",
        "### Top 3 produtos mais vendidos:\n",
        "- **Cômoda** – 210 unidades  \n",
        "- **Carrinho controle remoto** – 206 unidades  \n",
        "- **Micro-ondas** – 206 unidades  \n",
        "\n",
        "### Top 3 produtos menos vendidos:\n",
        "- **Celular ABXY** – 157 unidades  \n",
        "- **Headset** – 158 unidades  \n",
        "- **Mochila** – 163 unidades  \n",
        "\n",
        "> Os produtos de menor saída podem indicar estoque parado ou baixa demanda. Não houve concentração crítica em uma loja específica, mas vale atenção ao portfólio.\n",
        "\n",
        "---\n",
        "\n",
        "## 🚚 Custo Médio de Frete por Loja\n",
        "\n",
        "- **Loja 4**: R$ 31,28  \n",
        "- **Loja 3**: R$ 33,07  \n",
        "- **Loja 2**: R$ 33,62  \n",
        "- **Loja 1**: R$ 34,69\n",
        "\n",
        "> A **Loja 4 possui o menor frete médio**, o que é um ponto positivo, mas **não suficiente para compensar seu fraco desempenho em outras métricas**.\n",
        "\n",
        "---\n",
        "\n",
        "## 📈 Gráficos Gerados\n",
        "\n",
        "- **Gráfico de Pizza**: Distribuição do faturamento por loja  \n",
        "- **Gráfico de Barras**: Média de avaliação por loja  \n",
        "- **Gráfico de Linhas**: Custo médio de frete por loja  \n",
        "\n",
        "Esses gráficos ajudaram a visualizar de forma clara as diferenças de desempenho entre as lojas.\n",
        "\n",
        "---\n",
        "\n",
        "## ✅ Conclusão\n",
        "\n",
        "Com base em todas as análises realizadas, conclui-se que a **Loja 4 é a melhor candidata para ser vendida**. Ela apresenta:\n",
        "\n",
        "- O **menor faturamento total**  \n",
        "- **Desempenho abaixo da média** em categorias importantes  \n",
        "- **Média de avaliação inferior** a duas concorrentes  \n",
        "- Volume relativamente menor de vendas em produtos-chave  \n",
        "\n",
        "Embora tenha o menor custo de frete, isso **não compensa seu fraco desempenho geral**, tornando-a a **melhor opção para desinvestimento estratégico**.\n",
        "\n",
        "\n"
      ],
      "metadata": {
        "id": "lhbrlYohuaDx"
      }
    }
  ]
}